{
 "cells": [
  {
   "cell_type": "markdown",
   "metadata": {},
   "source": [
    "# PROBLEMAS DIVERSOS"
   ]
  },
  {
   "cell_type": "markdown",
   "metadata": {},
   "source": [
    "<h3>1. Ficheros</h3>\n",
    "Escribir una función que pida un número entero entre 1 y 10 y guarde en un fichero con el nombre tabla-n.txt la tabla de multiplicar de ese número, done n es el número introducido."
   ]
  },
  {
   "cell_type": "code",
   "execution_count": 6,
   "metadata": {},
   "outputs": [
    {
     "name": "stdin",
     "output_type": "stream",
     "text": [
      "Introduce un número entero del 1 al 10: 5\n"
     ]
    },
    {
     "name": "stdout",
     "output_type": "stream",
     "text": [
      "El archivo tabla-5.txt se creó en la ruta actual de forma satisfactoria\n"
     ]
    }
   ],
   "source": [
    "def tablan():\n",
    "    while True:\n",
    "        try:\n",
    "            n = int(input(\"Introduce un número entero del 1 al 10:\"))\n",
    "            if n >= 1 and n <= 10:\n",
    "                break\n",
    "            else:\n",
    "                print(\"El número debe estar entre 1 y 10\")\n",
    "        except:\n",
    "            print(\"Introduce un número válido\")\n",
    "    \n",
    "    with open(f'./tabla-{n}.txt',mode='w') as f:\n",
    "        for i in range(0, 11):\n",
    "            f.write(f\"{n} x {i} = {n*i}\\n\")\n",
    "        print(f\"El archivo tabla-{n}.txt se creó en la ruta actual de forma satisfactoria\")\n",
    "        f.close\n",
    "    \n",
    "tablan()"
   ]
  },
  {
   "cell_type": "markdown",
   "metadata": {},
   "source": [
    "<h3>2.</h3>\n",
    "Escribir una función que pida un número entero entre 1 y 10, lea el fichero tabla-n.txt con la tabla de multiplicar de ese número, done n es el número introducido, y la muestre por pantalla. Si el fichero no existe debe mostrar un mensaje por pantalla informando de ello."
   ]
  },
  {
   "cell_type": "code",
   "execution_count": 7,
   "metadata": {},
   "outputs": [
    {
     "name": "stdin",
     "output_type": "stream",
     "text": [
      "Introduce un número entero del 1 al 10: 5\n"
     ]
    },
    {
     "name": "stdout",
     "output_type": "stream",
     "text": [
      "5 x 0 = 0\n",
      "\n",
      "5 x 1 = 5\n",
      "\n",
      "5 x 2 = 10\n",
      "\n",
      "5 x 3 = 15\n",
      "\n",
      "5 x 4 = 20\n",
      "\n",
      "5 x 5 = 25\n",
      "\n",
      "5 x 6 = 30\n",
      "\n",
      "5 x 7 = 35\n",
      "\n",
      "5 x 8 = 40\n",
      "\n",
      "5 x 9 = 45\n",
      "\n",
      "5 x 10 = 50\n",
      "\n"
     ]
    }
   ],
   "source": [
    "def mostrartabla():\n",
    "    while True:\n",
    "        try:\n",
    "            n = int(input(\"Introduce un número entero del 1 al 10:\"))\n",
    "            if n >= 1 and n <= 10:\n",
    "                break\n",
    "            else:\n",
    "                print(\"El número debe estar entre 1 y 10\")\n",
    "        except:\n",
    "            print(\"Introduce un número válido\")\n",
    "    try:\n",
    "        with open(f'./tabla-{n}.txt',mode='r') as f:\n",
    "            texto = f.readlines()\n",
    "            for fila in texto:\n",
    "                print(fila)\n",
    "    except:\n",
    "        print(\"No existe una tabla almacenada para ese número\")\n",
    "\n",
    "#Probando con la tabla de un archivo existente (tabla-5.txt)\n",
    "mostrartabla()"
   ]
  },
  {
   "cell_type": "code",
   "execution_count": 8,
   "metadata": {},
   "outputs": [
    {
     "name": "stdin",
     "output_type": "stream",
     "text": [
      "Introduce un número entero del 1 al 10: 3\n"
     ]
    },
    {
     "name": "stdout",
     "output_type": "stream",
     "text": [
      "No existe una tabla almacenada para ese número\n"
     ]
    }
   ],
   "source": [
    "#En caso que la tabla no exista (tabla-3.txt)\n",
    "mostrartabla()"
   ]
  },
  {
   "cell_type": "markdown",
   "metadata": {},
   "source": [
    "<h3>3.</h3>\n",
    "\n",
    "Escribir una función que pida dos números n y m entre 1 y 10, lea el fichero tabla-n.txt con la tabla de multiplicar de ese número, y muestre por pantalla la línea m del fichero. Si el fichero no existe debe mostrar un mensaje por pantalla informando de ello."
   ]
  },
  {
   "cell_type": "code",
   "execution_count": 11,
   "metadata": {},
   "outputs": [
    {
     "name": "stdin",
     "output_type": "stream",
     "text": [
      "Introduce el primer número entero del 1 al 10: 5\n",
      "Introduce el segundo número entero del 1 al 10: 3\n"
     ]
    },
    {
     "name": "stdout",
     "output_type": "stream",
     "text": [
      "5 x 3 = 15\n",
      "\n"
     ]
    }
   ],
   "source": [
    "def buscar_tabla():\n",
    "    while True:\n",
    "        try:\n",
    "            n = int(input(\"Introduce el primer número entero del 1 al 10:\"))\n",
    "            if n >= 1 and n <= 10:\n",
    "                while True:\n",
    "                    try:\n",
    "                        m = int(input(\"Introduce el segundo número entero del 1 al 10:\"))\n",
    "                        if m >= 1 and m <= 10:\n",
    "                            break\n",
    "                        else:\n",
    "                            print(\"El número debe estar entre 1 y 10\")\n",
    "                    except:\n",
    "                        print(\"Introduce un número válido\")\n",
    "                break\n",
    "            else:\n",
    "                print(\"El número debe estar entre 1 y 10\")\n",
    "        except:\n",
    "            print(\"Introduce un número válido\")\n",
    "    \n",
    "    try:\n",
    "        with open(f'./tabla-{n}.txt',mode='r') as f:\n",
    "            texto = f.readlines()\n",
    "            for fila in texto:\n",
    "                if fila == f\"{n} x {m} = {n*m}\\n\":\n",
    "                    print(fila)\n",
    "    except:\n",
    "        print(\"Ese producto no está almacenado en ningún archivo de tabla\")\n",
    "        \n",
    "\n",
    "#Probando producto existente en un archivo (5 x 3)\n",
    "buscar_tabla()"
   ]
  },
  {
   "cell_type": "code",
   "execution_count": 3,
   "metadata": {},
   "outputs": [
    {
     "name": "stdin",
     "output_type": "stream",
     "text": [
      "Introduce un primer número entero del 1 al 10: 2\n",
      "Introduce un segundo número entero del 1 al 10: 4\n"
     ]
    },
    {
     "name": "stdout",
     "output_type": "stream",
     "text": [
      "Ese producto no está almacenado en ningún archivo de tabla\n"
     ]
    }
   ],
   "source": [
    "#Probando producto no almacenado en ningún archivo (2 x 4)\n",
    "buscar_tabla()"
   ]
  },
  {
   "cell_type": "markdown",
   "metadata": {},
   "source": [
    "<h3>4. Expresiones Regulares</h3>\n",
    "sda\n"
   ]
  },
  {
   "cell_type": "code",
   "execution_count": null,
   "metadata": {},
   "outputs": [],
   "source": []
  }
 ],
 "metadata": {
  "kernelspec": {
   "display_name": "Python 3",
   "language": "python",
   "name": "python3"
  },
  "language_info": {
   "codemirror_mode": {
    "name": "ipython",
    "version": 3
   },
   "file_extension": ".py",
   "mimetype": "text/x-python",
   "name": "python",
   "nbconvert_exporter": "python",
   "pygments_lexer": "ipython3",
   "version": "3.8.5"
  }
 },
 "nbformat": 4,
 "nbformat_minor": 4
}
