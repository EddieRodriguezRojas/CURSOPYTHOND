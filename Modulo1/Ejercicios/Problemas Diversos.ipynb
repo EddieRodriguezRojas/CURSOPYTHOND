{
 "cells": [
  {
   "cell_type": "markdown",
   "metadata": {},
   "source": [
    "# PROBLEMAS DIVERSOS"
   ]
  },
  {
   "cell_type": "markdown",
   "metadata": {},
   "source": [
    "<h3>1.</h3>\n",
    "Escribí un programa que solicite al usuario ingresar la cantidad de kilómetros recorridos por una motocicleta y la cantidad de litros de combustible que consumió durante ese recorrido. Mostrar el consumo de combustible por kilómetro."
   ]
  },
  {
   "cell_type": "markdown",
   "metadata": {},
   "source": [
    "<code>Kilómetros recorridos: 12.5\n",
    "Litros de combustible gastados: 260\n",
    "El consumo por kilómetro es de 20.8<code>"
   ]
  },
  {
   "cell_type": "code",
   "execution_count": 3,
   "metadata": {},
   "outputs": [
    {
     "name": "stdin",
     "output_type": "stream",
     "text": [
      "Ingrese la cantidad de Km recorridos: 12.5\n",
      "Ingrese la cantidad de litros de combustible consumido: 260\n"
     ]
    },
    {
     "name": "stdout",
     "output_type": "stream",
     "text": [
      "Kilómetros recorridos: 12.5\n",
      "Litros de combustible gastados: 260.0\n",
      "El consumo por Kilómetro es de : 20.8\n"
     ]
    }
   ],
   "source": [
    "km = float(input('Ingrese la cantidad de Km recorridos:'))\n",
    "combustible = float(input('Ingrese la cantidad de litros de combustible consumido:'))\n",
    "print('Kilómetros recorridos: {}'.format(km))\n",
    "print('Litros de combustible gastados: {}'.format(combustible))\n",
    "print('El consumo por Kilómetro es de : {}'.format(combustible/km))\n"
   ]
  },
  {
   "cell_type": "markdown",
   "metadata": {},
   "source": [
    "### 2.\n",
    "Escriba un programa que pida los coeficientes de una ecuación de segundo grado <code>(a x² + b x + c = 0)</code> y escriba la solución.\n",
    "\n",
    "Se recuerda que una ecuación de segundo grado puede no tener solución, tener una solución única, tener dos soluciones o que todos los números sean solución."
   ]
  },
  {
   "cell_type": "markdown",
   "metadata": {},
   "source": [
    "<img src='https://i.pinimg.com/originals/d3/f7/01/d3f701528ad56ce0f5a98d7c91722fd7.png'>"
   ]
  },
  {
   "cell_type": "markdown",
   "metadata": {},
   "source": [
    "Su programa debe indicar:\n",
    "- En caso la ecuación cuadrática tenga solución real, su programa debe brindar la solución\n",
    "- En caso su ecuación no tenga solución real, su programa debe brindar un mensaje que diga \"Ecuación no presenta solución real\""
   ]
  },
  {
   "cell_type": "code",
   "execution_count": 12,
   "metadata": {},
   "outputs": [
    {
     "name": "stdout",
     "output_type": "stream",
     "text": [
      "Se tiene la ecuación cuadrática de la forma ax^2 + bx + c = 0\n"
     ]
    },
    {
     "name": "stdin",
     "output_type": "stream",
     "text": [
      "Ingresa el valor de a:  2\n",
      "Ingresa el valor de b:  4\n",
      "Ingresa el valor de c:  -6\n"
     ]
    },
    {
     "name": "stdout",
     "output_type": "stream",
     "text": [
      "La soluciones son: -3.0, 1.0\n"
     ]
    }
   ],
   "source": [
    "print('Se tiene la ecuación cuadrática de la forma ax^2 + bx + c = 0')\n",
    "a = int(input('Ingresa el valor de a: '))\n",
    "b = int(input('Ingresa el valor de b: '))\n",
    "c = int(input('Ingresa el valor de c: '))\n",
    "\n",
    "if a != 0:\n",
    "    if b**2-4*a*c > 0:\n",
    "        print(f'La soluciones son: {(-b-(b**2-4*a*c)**0.5)/(2*a)}, {(-b+(b**2-4*a*c)**0.5)/(2*a)}')\n",
    "    else:\n",
    "        if b**2-4*a*c == 0:\n",
    "            print(f'La solución es: {-b/(2*a)}')\n",
    "        else:\n",
    "            print('La ecuación no tiene solución real')\n",
    "else:\n",
    "    print('Valor de a no es válido para una ecuación cuadrática')\n"
   ]
  }
 ],
 "metadata": {
  "kernelspec": {
   "display_name": "Python 3",
   "language": "python",
   "name": "python3"
  },
  "language_info": {
   "codemirror_mode": {
    "name": "ipython",
    "version": 3
   },
   "file_extension": ".py",
   "mimetype": "text/x-python",
   "name": "python",
   "nbconvert_exporter": "python",
   "pygments_lexer": "ipython3",
   "version": "3.8.5"
  }
 },
 "nbformat": 4,
 "nbformat_minor": 4
}
