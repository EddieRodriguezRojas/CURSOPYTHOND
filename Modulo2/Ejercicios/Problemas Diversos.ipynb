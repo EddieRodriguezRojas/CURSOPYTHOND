{
 "cells": [
  {
   "cell_type": "markdown",
   "metadata": {},
   "source": [
    "# PROBLEMAS DIVERSOS"
   ]
  },
  {
   "cell_type": "markdown",
   "metadata": {},
   "source": [
    "<h3>1.</h3>\n",
    "Realizar una función que permita la carga de n alumnos. Por cada alumno se deberá preguntar el nombre completo y permitir el ingreso de 3 notas. Las notas deben estar comprendidas entre 0 y 10. Devolver el listado de alumnos."
   ]
  },
  {
   "cell_type": "code",
   "execution_count": 43,
   "metadata": {},
   "outputs": [
    {
     "name": "stdin",
     "output_type": "stream",
     "text": [
      "Ingrese la cantidad de alumnos a insertar 3\n",
      "Ingrese el nombre completo del alumno 1:  Eddie\n",
      "Ingresa la nota 1:  10\n",
      "Ingresa la nota 2:  9\n",
      "Ingresa la nota 3:  8\n",
      "Ingrese el nombre completo del alumno 2:  Edgard\n",
      "Ingresa la nota 1:  7\n",
      "Ingresa la nota 2:  6\n",
      "Ingresa la nota 3:  5\n",
      "Ingrese el nombre completo del alumno 3:  Raúl\n",
      "Ingresa la nota 1:  4\n",
      "Ingresa la nota 2:  3\n",
      "Ingresa la nota 3:  2\n"
     ]
    },
    {
     "data": {
      "text/plain": [
       "[{'nombre': 'Eddie', 'nota1': 10.0, 'nota2': 9.0, 'nota3': 8.0},\n",
       " {'nombre': 'Edgard', 'nota1': 7.0, 'nota2': 6.0, 'nota3': 5.0},\n",
       " {'nombre': 'Raúl', 'nota1': 4.0, 'nota2': 3.0, 'nota3': 2.0}]"
      ]
     },
     "execution_count": 43,
     "metadata": {},
     "output_type": "execute_result"
    }
   ],
   "source": [
    "#1. Declarando Lista vacia\n",
    "lista_alumnos = []\n",
    "\n",
    "#2. Definiendo la función para cargar n alumnos\n",
    "def alumnos(lista_alumnos, cantidad):\n",
    "    for i in range(cantidad):\n",
    "        n = 0\n",
    "        alumno = {}\n",
    "        nombre = input(f\"Ingrese el nombre completo del alumno {len(lista_alumnos) + 1}: \")\n",
    "        \n",
    "        alumno['nombre'] = nombre\n",
    "        \n",
    "        while n < 3:\n",
    "            try:\n",
    "                nota = float(input(f\"Ingresa la nota {n + 1}: \"))\n",
    "                if nota >= 0 and nota <= 10:\n",
    "                    alumno[f'nota{n+1}'] = nota\n",
    "                    n = n+1\n",
    "                else:\n",
    "                    print(\"La nota debe estar comprendida entre 0 y 10\")\n",
    "            except:\n",
    "                print(\"Ingrese una nota valida.\")\n",
    "        lista_alumnos.append(alumno)\n",
    "\n",
    "#3. Ingresando datos\n",
    "while True:\n",
    "    try:\n",
    "        cantidad = int(input(\"Ingrese la cantidad de alumnos a insertar\"))\n",
    "        if cantidad <= 0:\n",
    "            print(\"Se debe registrar una cantidad de alumnos mayor a 0\")\n",
    "        else:\n",
    "            break\n",
    "    except:\n",
    "        print(\"Por favor ingrese un valor de cantidad válido: \")\n",
    "\n",
    "alumnos(lista_alumnos, cantidad)\n",
    "\n",
    "#4. Imprimiendo datos\n",
    "lista_alumnos"
   ]
  },
  {
   "cell_type": "code",
   "execution_count": 52,
   "metadata": {},
   "outputs": [],
   "source": [
    "#------------- SOLUCIÓN DEL PROFESOR -----------------\n",
    "#cantidad = int(input('¿Cuántos alumnos desea ingresar?'))\n",
    "#cantidad"
   ]
  },
  {
   "cell_type": "code",
   "execution_count": 53,
   "metadata": {},
   "outputs": [],
   "source": [
    "#lista_alumnos = []\n",
    "#for i in range(cantidad):\n",
    "#    alumno = {}\n",
    "    \n",
    "    #ingreso nombre\n",
    "#    nombre = input(f'Ingrese el nombre del alumno {i+1}: ')\n",
    "#    alumno['nombre'] = nombre\n",
    "    \n",
    "    #ingreso de notas\n",
    "#    alumno['notas'] = []\n",
    "    \n",
    "#    for n in range(3):\n",
    "#        nota = float(input(f'Ingrese la nota {n+1} del alumno: '))\n",
    "#        alumno['notas'].append(nota)\n",
    "    \n",
    "    #agrupando datos en lista\n",
    "#    lista_alumnos.append(alumno)"
   ]
  },
  {
   "cell_type": "code",
   "execution_count": 54,
   "metadata": {},
   "outputs": [],
   "source": [
    "#lista_alumnos"
   ]
  },
  {
   "cell_type": "code",
   "execution_count": 55,
   "metadata": {},
   "outputs": [],
   "source": [
    "#alumno\n",
    "#-----------------------------------------------------"
   ]
  },
  {
   "cell_type": "markdown",
   "metadata": {},
   "source": [
    "### 2.\n",
    "Definir una función que dado un listado de alumnos evalúe cuántos aprobaron y cuántos desaprobaron, teniendo en cuenta que se aprueba con 4. La nota será el promedio de las 3 notas para cada alumno."
   ]
  },
  {
   "cell_type": "code",
   "execution_count": 44,
   "metadata": {},
   "outputs": [
    {
     "name": "stdout",
     "output_type": "stream",
     "text": [
      "La cantidad de alumnos aprobados es de: 2\n",
      "La cantidad de alumnos desaprobados es de: 1\n"
     ]
    }
   ],
   "source": [
    "def promedio (lista_alumnos):\n",
    "    for alumno in lista_alumnos:\n",
    "        promedio = (alumno['nota1'] + alumno['nota2'] + alumno['nota3']) / 3\n",
    "        alumno['promedio'] = promedio\n",
    "\n",
    "def evaluar(lista_alumnos):\n",
    "    aprobados = 0\n",
    "    desaprobados = 0\n",
    "    \n",
    "    #Hallando promedio de cada alumno\n",
    "    promedio(lista_alumnos)\n",
    "    \n",
    "    for alumno in lista_alumnos:\n",
    "        if alumno['promedio'] >= 4:\n",
    "            alumno['estado'] = 'Aprobado'\n",
    "            aprobados += 1\n",
    "        else:\n",
    "            alumno['estado'] = 'Desaprobado'\n",
    "            desaprobados += 1\n",
    "            \n",
    "    print(f'La cantidad de alumnos aprobados es de: {aprobados}')\n",
    "    print(f'La cantidad de alumnos desaprobados es de: {desaprobados}')\n",
    "    \n",
    "evaluar(lista_alumnos)"
   ]
  },
  {
   "cell_type": "markdown",
   "metadata": {},
   "source": [
    "### 3.\n",
    "Informar el promedio de nota del curso total."
   ]
  },
  {
   "cell_type": "code",
   "execution_count": 45,
   "metadata": {},
   "outputs": [
    {
     "name": "stdout",
     "output_type": "stream",
     "text": [
      "El promedio de nota del curso total es: 6.0\n"
     ]
    }
   ],
   "source": [
    "def promedio_curso(lista_alumnos):\n",
    "    promedio = 0\n",
    "    for alumno in lista_alumnos:\n",
    "        promedio += alumno['promedio']\n",
    "    \n",
    "    return promedio / len(lista_alumnos)\n",
    "\n",
    "print(f\"El promedio de nota del curso total es: {promedio_curso(lista_alumnos)}\")"
   ]
  },
  {
   "cell_type": "markdown",
   "metadata": {},
   "source": [
    "### 4.\n",
    "Realizar una función que indique quién tuvo el promedio más alto y quién tuvo la nota promedio más baja."
   ]
  },
  {
   "cell_type": "code",
   "execution_count": 49,
   "metadata": {},
   "outputs": [
    {
     "name": "stdout",
     "output_type": "stream",
     "text": [
      "El alumno con el promedio más alto es: Eddie\n",
      "El alumno con el promedio más bajo es: Raúl\n"
     ]
    }
   ],
   "source": [
    "def puesto_promedio(lista_alumnos):\n",
    "    palto = 0\n",
    "    pbajo = 10\n",
    "    for alumno in lista_alumnos:\n",
    "        nombre = alumno['nombre']\n",
    "        if alumno['promedio'] >= palto:\n",
    "            alumno_alto = alumno['nombre']\n",
    "            palto = alumno['promedio']\n",
    "        if alumno['promedio'] <= pbajo:\n",
    "            alumno_bajo = alumno['nombre']\n",
    "            pbajo = alumno['promedio']\n",
    "    print(f\"El alumno con el promedio más alto es: {alumno_alto}\")\n",
    "    print(f\"El alumno con el promedio más bajo es: {alumno_bajo}\")\n",
    "\n",
    "puesto_promedio(lista_alumnos)"
   ]
  },
  {
   "cell_type": "markdown",
   "metadata": {},
   "source": [
    "### 5.\n",
    "Realizar una función que permita buscar un alumno por nombre, siendo el nombre completo o parcial, y devuelva una lista con los n alumnos que concuerden con ese nombre junto con todos sus datos, incluido el promedio de sus notas."
   ]
  },
  {
   "cell_type": "code",
   "execution_count": 51,
   "metadata": {},
   "outputs": [
    {
     "name": "stdin",
     "output_type": "stream",
     "text": [
      "Ingrese el nombre del o los alumnos a buscar:  Eddie\n"
     ]
    },
    {
     "name": "stdout",
     "output_type": "stream",
     "text": [
      "{'nombre': 'Eddie', 'nota1': 10.0, 'nota2': 9.0, 'nota3': 8.0, 'promedio': 9.0, 'estado': 'Aprobado'}\n"
     ]
    }
   ],
   "source": [
    "def buscar_alumno(nombre, lista_alumnos):\n",
    "    for alumno in lista_alumnos:\n",
    "        if alumno['nombre'] == nombre:\n",
    "            print(alumno)\n",
    "            \n",
    "nombre = input(\"Ingrese el nombre del o los alumnos a buscar: \")\n",
    "\n",
    "buscar_alumno(nombre, lista_alumnos)"
   ]
  }
 ],
 "metadata": {
  "kernelspec": {
   "display_name": "Python 3",
   "language": "python",
   "name": "python3"
  },
  "language_info": {
   "codemirror_mode": {
    "name": "ipython",
    "version": 3
   },
   "file_extension": ".py",
   "mimetype": "text/x-python",
   "name": "python",
   "nbconvert_exporter": "python",
   "pygments_lexer": "ipython3",
   "version": "3.8.5"
  }
 },
 "nbformat": 4,
 "nbformat_minor": 4
}
